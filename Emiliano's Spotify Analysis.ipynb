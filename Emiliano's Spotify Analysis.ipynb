{
 "cells": [
  {
   "cell_type": "markdown",
   "id": "364ffe89",
   "metadata": {},
   "source": [
    "# <font color=\"red\"> Emiliano's Spotify Analysis \n",
    "    Nov 15, 2021"
   ]
  },
  {
   "cell_type": "markdown",
   "id": "fc92756a",
   "metadata": {},
   "source": [
    "## Importing  and handling the json files"
   ]
  },
  {
   "cell_type": "code",
   "execution_count": 21,
   "id": "dfe7f9b5",
   "metadata": {},
   "outputs": [],
   "source": [
    "import json"
   ]
  },
  {
   "cell_type": "code",
   "execution_count": 26,
   "id": "2c6edebb",
   "metadata": {},
   "outputs": [],
   "source": [
    "# I received two json files from spotify, let's check them out\n",
    "\n",
    "with open(\"StreamingHistory0.json\") as json_file:\n",
    "    json_data0 = json.load(json_file)\n",
    "    \n",
    "with open(\"StreamingHistory1.json\") as json_file:\n",
    "    json_data1 = json.load(json_file)"
   ]
  },
  {
   "cell_type": "code",
   "execution_count": 28,
   "id": "79e32a8b",
   "metadata": {},
   "outputs": [],
   "source": [
    "# Let's set and index for each dictionary for easier access later on\n",
    "\n",
    "spotify0 = {}\n",
    "\n",
    "for i, item in enumerate(json_data0):\n",
    "    spotify0[f\"song_{i}\"] = item\n",
    "    \n",
    "spotify1 = {}\n",
    "\n",
    "for i, item in enumerate(json_data1):\n",
    "    spotify1[f\"song_{i}\"] = item"
   ]
  },
  {
   "cell_type": "code",
   "execution_count": null,
   "id": "1effc6df",
   "metadata": {},
   "outputs": [],
   "source": [
    "# Now I just needed to merge both nested dictionaries into one!\n",
    "\n",
    "for song in spotify0.items():\n",
    "    if song in spotify1.items():\n",
    "        spotify0[key].update(spotify1[key])\n",
    "        \n",
    "# The final version of my spotify data should be stored in \"spotify0\""
   ]
  },
  {
   "cell_type": "code",
   "execution_count": 32,
   "id": "5daf16fd",
   "metadata": {},
   "outputs": [],
   "source": [
    "# Let's change the name of the variable to avoid confusions later on\n",
    "\n",
    "spotify = spotify0"
   ]
  },
  {
   "cell_type": "markdown",
   "id": "02f05995",
   "metadata": {},
   "source": [
    "## <font color=\"blue\"> Time span of this file?"
   ]
  },
  {
   "cell_type": "code",
   "execution_count": 82,
   "id": "948dd71c",
   "metadata": {},
   "outputs": [
    {
     "name": "stdout",
     "output_type": "stream",
     "text": [
      "The first stream in this file was registered in 2020-11-12\n",
      "The last stream in this file was registered in 2021-08-13\n"
     ]
    }
   ],
   "source": [
    "# made an empty container for the dates\n",
    "\n",
    "dates = []\n",
    "\n",
    "# looped through the nested dictionary to get the dates\n",
    "\n",
    "for song, data in spotify.items():\n",
    "    dates.append(data[\"endTime\"])\n",
    "    \n",
    "# extracted the the most recent and oldest date registered in the file \n",
    "# splitted the  date from the registered hour to be able to keep only the date in the next step\n",
    "max_date = max(dates).split(\" \")\n",
    "min_date = min(dates).split(\" \")\n",
    "\n",
    "\n",
    "# print only the min and max date, let's forget about the time-stamp for now \n",
    "new_max_date = max_date[0]\n",
    "new_min_date = min_date[0]\n",
    "\n",
    "print(f'The first stream in this file was registered in {new_min_date}')\n",
    "print(f'The last stream in this file was registered in {new_max_date}')"
   ]
  },
  {
   "cell_type": "markdown",
   "id": "5a2a8022",
   "metadata": {},
   "source": [
    "## <font color=\"blue\"> How many different songs have I listened to in that time span?"
   ]
  },
  {
   "cell_type": "code",
   "execution_count": 30,
   "id": "795b48d6",
   "metadata": {},
   "outputs": [
    {
     "name": "stdout",
     "output_type": "stream",
     "text": [
      "I listened to 2260 different songs between November of 2020 and August of 2021\n"
     ]
    }
   ],
   "source": [
    "# created an empty list for the track names registered in my streaming history\n",
    "\n",
    "trackNames = []\n",
    "\n",
    "for song, data in spotify.items():\n",
    "    trackNames.append(data[\"trackName\"])\n",
    "    \n",
    "\n",
    "# using set() to get a list with only unique track names\n",
    "unique_trackNames = set(trackNames)\n",
    "\n",
    "\n",
    "# count the unique track names using len()\n",
    "total_unique_trackNames = len(unique_trackNames)\n",
    "\n",
    "print(f'I listened to {total_unique_trackNames} different songs between November of 2020 and August of 2021')"
   ]
  },
  {
   "cell_type": "markdown",
   "id": "74e3dd3f",
   "metadata": {},
   "source": [
    "## <font color=\"blue\"> How many different artists have I listened to in that time span?"
   ]
  },
  {
   "cell_type": "code",
   "execution_count": 33,
   "id": "7771d2f7",
   "metadata": {},
   "outputs": [
    {
     "name": "stdout",
     "output_type": "stream",
     "text": [
      "I have listened to 939 different artists between November of 2020 and August of 2021\n"
     ]
    }
   ],
   "source": [
    "# created an empty list for the artist names registered in my streaming history\n",
    "\n",
    "artistNames = []\n",
    "\n",
    "for song, data in spotify.items():\n",
    "    artistNames.append(data[\"artistName\"])\n",
    "    \n",
    "# used set() to get a list with only unique artist names\n",
    "unique_artistNames = set(artistNames)\n",
    "\n",
    "\n",
    "# count the unique track names using len()\n",
    "total_unique_artists = len(unique_artistNames)\n",
    "\n",
    "print(f'I have listened to {total_unique_artists} different artists between November of 2020 and August of 2021')"
   ]
  },
  {
   "cell_type": "markdown",
   "id": "2e2c57b5",
   "metadata": {},
   "source": [
    "## <font color=\"blue\"> How much time have I spent listening to music?"
   ]
  },
  {
   "cell_type": "code",
   "execution_count": 175,
   "id": "b5346b6f",
   "metadata": {},
   "outputs": [
    {
     "name": "stdout",
     "output_type": "stream",
     "text": [
      "I have spent 449 hours listening to music between November of 2020 and August of 2021\n"
     ]
    }
   ],
   "source": [
    "msPlayed = []\n",
    "\n",
    "for song, data in spotify.items():\n",
    "    msPlayed.append(data[\"msPlayed\"])\n",
    "\n",
    "    # I also made sure to convert msPlayed into hours :-) \n",
    "    \n",
    "print(f'I have spent {round(sum(msPlayed)/60000/60)} hours listening to music between November of 2020 and August of 2021')\n"
   ]
  },
  {
   "cell_type": "markdown",
   "id": "149bcb1d",
   "metadata": {},
   "source": [
    "## <font color=\"blue\"> Most listened artist?"
   ]
  },
  {
   "cell_type": "code",
   "execution_count": 163,
   "id": "42c9882d",
   "metadata": {},
   "outputs": [],
   "source": [
    "# create an empty container where I cans store the names of my artists\n",
    "\n",
    "artists_dict = {}\n",
    "\n",
    "artistNames = {data[\"artistName\"] for song, data in spotify.items()}\n",
    "\n",
    "# I can get the number of streams per artist applying for loops \n",
    "\n",
    "for artist in artistNames:\n",
    "    number_of_streams = 0 \n",
    "    for song, data in spotify.items():\n",
    "        if data[\"artistName\"] == artist:\n",
    "            number_of_streams += 1\n",
    "            \n",
    "    artists_dict[artist] = number_of_streams\n",
    "    \n",
    "    \n",
    "# some context for what I did above\n",
    "\n",
    "    # first I stored all of the aritst names in an empty dictionary (line 3)\n",
    "\n",
    "        # set a for loop to set the initial number of streams for each song to 0 (line 9)\n",
    "\n",
    "            # another for loop with the following condition: (line 12)\n",
    "    \n",
    "                # if data[\"artistName\"] == artist then add 1 to the counter of streams for that artist \n",
    "                    \n",
    "                    # add the number of streams as values in the artists_dict (line 15)\n",
    "                    # not the dictionary is ready for further manipulations \n",
    "    "
   ]
  },
  {
   "cell_type": "code",
   "execution_count": 164,
   "id": "e009e93a",
   "metadata": {},
   "outputs": [],
   "source": [
    "# sorted my artists from most to less streamed\n",
    "\n",
    "sorted_artists_dict = dict(sorted(artists_dict.items(), \n",
    "           key=lambda item: -item[1]))"
   ]
  },
  {
   "cell_type": "code",
   "execution_count": 176,
   "id": "e8e4fc67",
   "metadata": {},
   "outputs": [
    {
     "name": "stdout",
     "output_type": "stream",
     "text": [
      "Kendrick Lamar - total streams: 278\n",
      "Pink Floyd - total streams: 212\n",
      "Mac Miller - total streams: 204\n",
      "Red Hot Chili Peppers - total streams: 189\n",
      "DIIV - total streams: 185\n"
     ]
    }
   ],
   "source": [
    "# printed my top 5 most streamed artists by sorting the new dictionary\n",
    "\n",
    "sorted_artists_dict_items = sorted_artists_dict.items()\n",
    "\n",
    "top5_artists = list(sorted_artists_dict_items)[:5]\n",
    "\n",
    "# formatted the keys and values of the dictionary using for loops\n",
    "\n",
    "for artist, total_streams in top5_artists:\n",
    "    print(f'{artist} - total streams: {total_streams}')"
   ]
  },
  {
   "cell_type": "markdown",
   "id": "25292f6b",
   "metadata": {},
   "source": [
    "## <font color=\"blue\"> Song with the most plays?"
   ]
  },
  {
   "cell_type": "code",
   "execution_count": 166,
   "id": "89dabbbe",
   "metadata": {},
   "outputs": [],
   "source": [
    "# create an empty container where I cans store all the songs I have streamed\n",
    "\n",
    "track_dict = {}\n",
    "\n",
    "trackNames = {data[\"trackName\"] for song, data in spotify.items()}\n",
    "\n",
    "# I can get the number of streams per song applying for loops as well \n",
    "\n",
    "for track in trackNames:\n",
    "    number_of_streams = 0   \n",
    "    for song, data in spotify.items():\n",
    "        if data[\"trackName\"] == track:\n",
    "            number_of_streams += 1\n",
    "            \n",
    "    track_dict[track] = number_of_streams\n",
    "    \n",
    "    # same dynamic as before      ¯\\_(ツ)_/¯"
   ]
  },
  {
   "cell_type": "code",
   "execution_count": 167,
   "id": "09614c30",
   "metadata": {},
   "outputs": [],
   "source": [
    "# sorted my songs from most to less streamed\n",
    "\n",
    "sorted_track_dict = dict(sorted(track_dict.items(), \n",
    "           key=lambda item: -item[1]))"
   ]
  },
  {
   "cell_type": "code",
   "execution_count": 168,
   "id": "8e1c6dab",
   "metadata": {},
   "outputs": [
    {
     "name": "stdout",
     "output_type": "stream",
     "text": [
      "FEAR. - Total streams: 56\n",
      "FEEL. - Total streams: 43\n",
      "Solos - Total streams: 40\n",
      "Woody's Blue - Total streams: 40\n",
      "YAH. - Total streams: 39\n"
     ]
    }
   ],
   "source": [
    "# printed my top 5 most streamed songs by sorting the new dictionary\n",
    "\n",
    "sorted_track_dict_items = sorted_track_dict.items()\n",
    "\n",
    "top5_songs = list(sorted_track_dict_items)[:5]\n",
    "\n",
    "# formatted the keys and values of the dictionary using for loops\n",
    "\n",
    "for track, total_streams in top5_songs:\n",
    "    print(f'{track} - Total streams: {total_streams}')"
   ]
  }
 ],
 "metadata": {
  "kernelspec": {
   "display_name": "Python 3 (ipykernel)",
   "language": "python",
   "name": "python3"
  },
  "language_info": {
   "codemirror_mode": {
    "name": "ipython",
    "version": 3
   },
   "file_extension": ".py",
   "mimetype": "text/x-python",
   "name": "python",
   "nbconvert_exporter": "python",
   "pygments_lexer": "ipython3",
   "version": "3.8.8"
  }
 },
 "nbformat": 4,
 "nbformat_minor": 5
}
